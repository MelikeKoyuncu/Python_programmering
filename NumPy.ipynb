{
 "cells": [
  {
   "cell_type": "markdown",
   "id": "dacf74e6",
   "metadata": {},
   "source": [
    "# NumPy"
   ]
  },
  {
   "cell_type": "markdown",
   "id": "01b2bf34",
   "metadata": {},
   "source": [
    "Read the links: https://numpy.org/doc/stable/user/quickstart.html  and https://numpy.org/doc/stable/user/basics.broadcasting.html  before solving the exercises. "
   ]
  },
  {
   "cell_type": "code",
   "execution_count": 244,
   "id": "1f79e4a6",
   "metadata": {},
   "outputs": [],
   "source": [
    "import numpy as np"
   ]
  },
  {
   "cell_type": "markdown",
   "id": "7dae6889",
   "metadata": {},
   "source": [
    "### Print out the dimension (number of axes), shape, size and the datatype of the matrix A."
   ]
  },
  {
   "cell_type": "code",
   "execution_count": 245,
   "id": "7b3678cd",
   "metadata": {},
   "outputs": [],
   "source": [
    "A = np.arange(1, 16).reshape(3,5)"
   ]
  },
  {
   "cell_type": "code",
   "execution_count": 246,
   "id": "31d39235",
   "metadata": {},
   "outputs": [
    {
     "name": "stdout",
     "output_type": "stream",
     "text": [
      "Dimension: 2\n",
      "Shape: (3, 5)\n",
      "Size: 15\n",
      "Datatype: int32\n"
     ]
    }
   ],
   "source": [
    "#dimension\n",
    "print('Dimension:', A.ndim)\n",
    "\n",
    "#shape\n",
    "print('Shape:', A.shape)\n",
    "\n",
    "#size\n",
    "print('Size:', A.size)\n",
    "\n",
    "#datatype\n",
    "print('Datatype:',A.dtype)"
   ]
  },
  {
   "cell_type": "markdown",
   "id": "e56d2a96",
   "metadata": {},
   "source": [
    "### Do the following computations on the matrices B and C: \n",
    "* Elementwise subtraction. \n",
    "* Elementwise multiplication. \n",
    "* Matrix multiplication (by default you should use the @ operator)."
   ]
  },
  {
   "cell_type": "code",
   "execution_count": 250,
   "id": "a7053fbb",
   "metadata": {},
   "outputs": [
    {
     "name": "stdout",
     "output_type": "stream",
     "text": [
      "B:\n",
      " [[1 2 3]\n",
      " [4 5 6]\n",
      " [7 8 9]]\n",
      "\n",
      "C:\n",
      " [[2. 2. 2.]\n",
      " [2. 2. 2.]\n",
      " [2. 2. 2.]]\n"
     ]
    }
   ],
   "source": [
    "B = np.arange(1, 10).reshape(3, 3)\n",
    "C = np.ones((3, 3))*2\n",
    "\n",
    "print('B:\\n',B)\n",
    "print()\n",
    "print('C:\\n',C)"
   ]
  },
  {
   "cell_type": "code",
   "execution_count": 251,
   "id": "3cd794ae",
   "metadata": {},
   "outputs": [
    {
     "name": "stdout",
     "output_type": "stream",
     "text": [
      "B-C:\n",
      " [[-1.  0.  1.]\n",
      " [ 2.  3.  4.]\n",
      " [ 5.  6.  7.]] \n",
      "\n",
      "B*C:\n",
      " [[ 2.  4.  6.]\n",
      " [ 8. 10. 12.]\n",
      " [14. 16. 18.]] \n",
      "\n",
      "B@C:\n",
      " [[12. 12. 12.]\n",
      " [30. 30. 30.]\n",
      " [48. 48. 48.]]\n"
     ]
    }
   ],
   "source": [
    "#Elementwise subtraction\n",
    "print('B-C:\\n', B - C, '\\n')\n",
    "\n",
    "#Elementwise multiplication\n",
    "print('B*C:\\n', B * C, '\\n')\n",
    "\n",
    "#Matrix multiplication\n",
    "print('B@C:\\n', B @ C) #alternative as expected with @ operator"
   ]
  },
  {
   "cell_type": "markdown",
   "id": "96030d53",
   "metadata": {},
   "source": [
    "### Do the following calculations on the matrix:\n",
    "* Exponentiate each number elementwise (use the np.exp function).\n",
    "\n",
    "* Calculate the minimum value in the whole matrix. \n",
    "* Calculcate the minimum value in each row. \n",
    "* Calculcate the minimum value in each column. \n",
    "\n",
    "\n",
    "* Find the index value for the minimum value in the whole matrix (hint: use np.argmin).\n",
    "* Find the index value for the minimum value in each row (hint: use np.argmin).\n",
    "\n",
    "\n",
    "* Calculate the sum for all elements.\n",
    "* Calculate the mean for each column. \n",
    "* Calculate the median for each column. "
   ]
  },
  {
   "cell_type": "code",
   "execution_count": 157,
   "id": "f8a9166b",
   "metadata": {},
   "outputs": [
    {
     "name": "stdout",
     "output_type": "stream",
     "text": [
      "[[1 2 3]\n",
      " [4 5 6]\n",
      " [7 8 9]]\n"
     ]
    }
   ],
   "source": [
    "B = np.arange(1, 10).reshape(3, 3)\n",
    "print(B)"
   ]
  },
  {
   "cell_type": "code",
   "execution_count": 232,
   "id": "f03f24f7",
   "metadata": {},
   "outputs": [
    {
     "name": "stdout",
     "output_type": "stream",
     "text": [
      "Exp:\n",
      " [[ 7.3890561   2.71828183]\n",
      " [ 2.71828183 20.08553692]] \n",
      "\n",
      "Min: 1 \n",
      "\n",
      "Min(row): [1 1] \n",
      "\n",
      "Min(column): [1 1] \n",
      "\n",
      "Index min: 1 \n",
      "\n",
      "Index min(row): [1 0] \n",
      "\n",
      "Sum: 7 \n",
      "\n",
      "Mean(column): [1.5 2. ] \n",
      "\n",
      "Median(column): [1.5 2. ]\n"
     ]
    }
   ],
   "source": [
    "#Exponentiate each number elementwise\n",
    "print('Exp:\\n', np.exp(B), '\\n')\n",
    "\n",
    "#Calculate the minimum value in the whole matrix\n",
    "print('Min:', np.min(B), '\\n')\n",
    "\n",
    "#Calculcate the minimum value in each row\n",
    "print('Min(row):', np.min(B,axis = 1), '\\n')\n",
    "\n",
    "#Calculcate the minimum value in each column\n",
    "print('Min(column):', np.min(B,axis = 0), '\\n') \n",
    "\n",
    "#Find the index value for the minimum value in the whole matrix\n",
    "print('Index min:', np.argmin(B), '\\n')\n",
    "\n",
    "#Find the index value for the minimum value in each row\n",
    "print('Index min(row):', np.argmin(B,axis = 1), '\\n')\n",
    "\n",
    "#Calculate the sum for all elements\n",
    "print('Sum:', np.sum(B), '\\n')\n",
    "\n",
    "#Calculate the mean for each column\n",
    "print('Mean(column):', np.mean(B,axis = 0), '\\n')\n",
    "\n",
    "#Calculate the median for each column\n",
    "print('Median(column):', np.median(B,axis = 0))"
   ]
  },
  {
   "cell_type": "markdown",
   "id": "541eb7ba",
   "metadata": {},
   "source": [
    "### What does it mean when you provide fewer indices than axes when slicing? See example below."
   ]
  },
  {
   "cell_type": "code",
   "execution_count": 159,
   "id": "9c8abf56",
   "metadata": {},
   "outputs": [
    {
     "name": "stdout",
     "output_type": "stream",
     "text": [
      "[[ 1  2  3  4  5]\n",
      " [ 6  7  8  9 10]\n",
      " [11 12 13 14 15]]\n"
     ]
    }
   ],
   "source": [
    "print(A)"
   ]
  },
  {
   "cell_type": "code",
   "execution_count": 160,
   "id": "69415f7b",
   "metadata": {},
   "outputs": [
    {
     "data": {
      "text/plain": [
       "array([ 6,  7,  8,  9, 10])"
      ]
     },
     "execution_count": 160,
     "metadata": {},
     "output_type": "execute_result"
    }
   ],
   "source": [
    "A[1]"
   ]
  },
  {
   "cell_type": "markdown",
   "id": "6c53541b",
   "metadata": {},
   "source": [
    "**Answer:**"
   ]
  },
  {
   "cell_type": "markdown",
   "id": "e33526ac",
   "metadata": {},
   "source": [
    "When fewer indices are provided than the number of axes, the missing indices are considered complete slices which means that all elements along that axis will be selected."
   ]
  },
  {
   "cell_type": "markdown",
   "id": "6652d0c9",
   "metadata": {},
   "source": [
    "### Iterating over multidimensional arrays is done with respect to the first axis, so in the example below we iterate trough the rows. If you would like to iterate through the array *elementwise*, how would you do that?"
   ]
  },
  {
   "cell_type": "code",
   "execution_count": 161,
   "id": "9459864f",
   "metadata": {},
   "outputs": [
    {
     "data": {
      "text/plain": [
       "array([[ 1,  2,  3,  4,  5],\n",
       "       [ 6,  7,  8,  9, 10],\n",
       "       [11, 12, 13, 14, 15]])"
      ]
     },
     "execution_count": 161,
     "metadata": {},
     "output_type": "execute_result"
    }
   ],
   "source": [
    "A"
   ]
  },
  {
   "cell_type": "code",
   "execution_count": 162,
   "id": "a671bb5a",
   "metadata": {},
   "outputs": [
    {
     "name": "stdout",
     "output_type": "stream",
     "text": [
      "[1 2 3 4 5]\n",
      "[ 6  7  8  9 10]\n",
      "[11 12 13 14 15]\n"
     ]
    }
   ],
   "source": [
    "for i in A:\n",
    "    print(i)"
   ]
  },
  {
   "cell_type": "code",
   "execution_count": 163,
   "id": "a70ea46e",
   "metadata": {},
   "outputs": [
    {
     "name": "stdout",
     "output_type": "stream",
     "text": [
      "1\n",
      "2\n",
      "3\n",
      "4\n",
      "5\n",
      "6\n",
      "7\n",
      "8\n",
      "9\n",
      "10\n",
      "11\n",
      "12\n",
      "13\n",
      "14\n",
      "15\n"
     ]
    }
   ],
   "source": [
    "for x in A.flat: #First I prefered .flat attribute to iterate through the array elementwise.\n",
    "    print(x)"
   ]
  },
  {
   "cell_type": "code",
   "execution_count": 164,
   "id": "f4e443a0",
   "metadata": {},
   "outputs": [
    {
     "name": "stdout",
     "output_type": "stream",
     "text": [
      "1\n",
      "2\n",
      "3\n",
      "4\n",
      "5\n",
      "6\n",
      "7\n",
      "8\n",
      "9\n",
      "10\n",
      "11\n",
      "12\n",
      "13\n",
      "14\n",
      "15\n"
     ]
    }
   ],
   "source": [
    "for x in np.nditer(A):  #Another way to do it.Here I used the np.nditer function to iterate through the array elementwise.\n",
    "    print(x)"
   ]
  },
  {
   "cell_type": "markdown",
   "id": "608a2583",
   "metadata": {},
   "source": [
    "### Explain what the code below does. More specifically, b has three axes - what does this mean? "
   ]
  },
  {
   "cell_type": "markdown",
   "id": "3c53be05",
   "metadata": {},
   "source": [
    "The code is starting with a matrice that include numbers up to 30(30 is not include). And then returns the array with a modified shape which returns two matrices with 3 rows and columns are created as needed for numbers."
   ]
  },
  {
   "cell_type": "code",
   "execution_count": 252,
   "id": "f8f9b26f",
   "metadata": {},
   "outputs": [
    {
     "name": "stdout",
     "output_type": "stream",
     "text": [
      "[ 0  1  2  3  4  5  6  7  8  9 10 11 12 13 14 15 16 17 18 19 20 21 22 23\n",
      " 24 25 26 27 28 29]\n",
      "\n",
      "[[[ 0  1  2  3  4]\n",
      "  [ 5  6  7  8  9]\n",
      "  [10 11 12 13 14]]\n",
      "\n",
      " [[15 16 17 18 19]\n",
      "  [20 21 22 23 24]\n",
      "  [25 26 27 28 29]]]\n"
     ]
    }
   ],
   "source": [
    "a = np.arange(30)\n",
    "b = a.reshape((2, 3, -1))\n",
    "print(a)\n",
    "print()\n",
    "print(b)"
   ]
  },
  {
   "cell_type": "markdown",
   "id": "ab5933d5",
   "metadata": {},
   "source": [
    "### Broadcasting\n",
    "**Read the following link about broadcasting: https://numpy.org/doc/stable/user/basics.broadcasting.html#basics-broadcasting**"
   ]
  },
  {
   "cell_type": "markdown",
   "id": "039805ba",
   "metadata": {},
   "source": [
    "# Remark on Broadcasting when doing Linear Algebra calculations in Python. "
   ]
  },
  {
   "cell_type": "markdown",
   "id": "c4bcc147",
   "metadata": {},
   "source": [
    "### From the mathematical rules of matrix addition, the operation below (m1 + m2) does not make sense. The reason is that matrix addition requires two matrices of the same size. In Python however, it works due to broadcasting rules in NumPy. So you must be careful when doing Linear Algebra calculations in Python since they do not follow the \"mathematical rules\". This can however easily be handled by doing some simple programming, for example validating that two matrices have the same shape is easy if you for instance want to add two matrices. "
   ]
  },
  {
   "cell_type": "code",
   "execution_count": 259,
   "id": "1fd46778",
   "metadata": {},
   "outputs": [
    {
     "name": "stdout",
     "output_type": "stream",
     "text": [
      "m1+m2:\n",
      " [[2 3]\n",
      " [4 5]]\n",
      "m1 shape: (2, 2)\n",
      "m2 shape: (2,)\n"
     ]
    }
   ],
   "source": [
    "#creating two matrices named m1 and m2\n",
    "m1 = np.array([[1, 2],\n",
    "               [3, 4]]) \n",
    "\n",
    "m2 = np.array([1, 1])\n",
    "\n",
    "print('m1+m2:\\n', m1 + m2) #addition of m1 and m2\n",
    "print('m1 shape:', m1.shape)#To check the shape of matrice if both are same size or not, used the shape attribute. \n",
    "print('m2 shape:', m2.shape) #And the same checking for m2. "
   ]
  },
  {
   "cell_type": "markdown",
   "id": "047d6576",
   "metadata": {},
   "source": [
    "### The example below would also not be allowed if following the \"mathematical rules\" in Linear Algebra. But it works due to broadcasting in NumPy. "
   ]
  },
  {
   "cell_type": "code",
   "execution_count": 167,
   "id": "5e6ef2e4",
   "metadata": {},
   "outputs": [
    {
     "name": "stdout",
     "output_type": "stream",
     "text": [
      "[2 3 4]\n"
     ]
    }
   ],
   "source": [
    "v1 = np.array([1, 2, 3])\n",
    "print(v1 + 1)"
   ]
  },
  {
   "cell_type": "code",
   "execution_count": 262,
   "id": "e2cbae26",
   "metadata": {},
   "outputs": [
    {
     "name": "stdout",
     "output_type": "stream",
     "text": [
      "[[1 2]\n",
      " [3 4]] \n",
      "\n",
      "[2 2] \n",
      "\n",
      "(2,) \n",
      "\n",
      "[[3 4]\n",
      " [5 6]]\n"
     ]
    }
   ],
   "source": [
    "A = np.arange(1, 5).reshape(2,2) #one matrice with number up to 5 and has 2 rows, 2 columns(2,2).\n",
    "print(A,'\\n')\n",
    "\n",
    "b = np.array([2, 2]) #one matrice with 1 row 2 columns(2,1).\n",
    "print(b, '\\n')\n",
    "\n",
    "print(b.shape, '\\n') #checking the shape of b which is (2,1).\n",
    "\n",
    "print(A + b)  #addition of A and b works, even the first matrice column and the second matrice row have not same shape."
   ]
  },
  {
   "cell_type": "markdown",
   "id": "722fd5cd",
   "metadata": {},
   "source": [
    "# Linear Algebra Exercises"
   ]
  },
  {
   "cell_type": "markdown",
   "id": "b8935099",
   "metadata": {},
   "source": [
    "The exercies are taken from the \"Matrix Algebra for Engineers\" by Chasnov: https://www.math.hkust.edu.hk/~machas/matrix-algebra-for-engineers.pdf .\n",
    "\n",
    "Do the following exercises: \n",
    "* Chapter 2, exercise 1-3.\n",
    "* Quiz on p.8, exercise 2. \n",
    "* Chapter 6, exercise 1. \n",
    "* Quiz on p.15, exercise 3. \n",
    "\n",
    "\n",
    "* Chapter 10, exercise 1. \n",
    "* Chapter 12 exercise 1. \n"
   ]
  },
  {
   "cell_type": "code",
   "execution_count": 263,
   "id": "a452a77a",
   "metadata": {},
   "outputs": [
    {
     "name": "stdout",
     "output_type": "stream",
     "text": [
      "A:\n",
      " [[ 2  1 -1]\n",
      " [ 1 -1  1]] \n",
      "\n",
      "B:\n",
      " [[ 4 -2  1]\n",
      " [ 2 -4 -2]] \n",
      "\n",
      "C:\n",
      " [[1 2]\n",
      " [2 1]] \n",
      "\n",
      "D:\n",
      " [[3 4]\n",
      " [4 3]] \n",
      "\n",
      "E:\n",
      " [[1]\n",
      " [2]]\n"
     ]
    }
   ],
   "source": [
    "A = np.array([[2, 1, -1],\n",
    "              [1, -1, 1]])\n",
    "\n",
    "B = np.array([[4, -2, 1],\n",
    "              [2, -4, -2]])\n",
    "\n",
    "C = np.array([[1, 2],\n",
    "              [2, 1]])\n",
    "\n",
    "D = np.array([[3, 4],\n",
    "              [4, 3]])\n",
    "\n",
    "E = np.array([[1],\n",
    "              [2]])\n",
    "\n",
    "print(\"A:\\n\",A, '\\n')\n",
    "\n",
    "print(\"B:\\n\",B, '\\n')\n",
    "\n",
    "print(\"C:\\n\",C, '\\n')\n",
    "\n",
    "print(\"D:\\n\",D, '\\n')\n",
    "\n",
    "print(\"E:\\n\",E)"
   ]
  },
  {
   "cell_type": "markdown",
   "id": "9d8366cc",
   "metadata": {},
   "source": [
    "**Chap2. Question 1.**\n",
    "\n",
    "**Write a function \"add_mult_matrices\" that takes two matrices as input arguments (validate that the input are of the type numpy.ndarray by using the isinstance function), a third argument that is either 'add' or 'multiply' that specifies if you want to add or multiply the matrices (validate that the third argument is either 'add' or 'multiply'). When doing matrix addition, validate that the matrices have the same size. When doing matrix multiplication, validate that the sizes conform (i.e. number of columns in the first matrix is equal to the number of rows in the second matrix).**\n",
    "\n",
    "In this exercise, create a function that takes two matrices as input and either adds or multiplies them by specifying a argument as either 'add' or 'multiply'. Validate that both matrices taken as input are of the type ndarray (use the isinstance function)."
   ]
  },
  {
   "cell_type": "code",
   "execution_count": 265,
   "id": "a7a8a398",
   "metadata": {},
   "outputs": [],
   "source": [
    "def add_mult_matrices(matrix1, matrix2, operation):\n",
    "    \n",
    "    if not isinstance(matrix1, np.ndarray) or not isinstance(matrix2, np.ndarray):\n",
    "        raise TypeError(\"Both matrices must be of type numpy.ndarray\")\n",
    "        \n",
    "    if operation not in [\"add\", \"multiply\"]:\n",
    "        raise ValueError(\"The third argument must be either 'add' or 'multiply'\")\n",
    "        \n",
    "    if operation == \"add\":\n",
    "        if matrix1.shape != matrix2.shape:\n",
    "            raise ValueError(\"Matrices must have the same shape for addition\")\n",
    "        return matrix1 + matrix2\n",
    "    \n",
    "    else:\n",
    "        if matrix1.shape[1] != matrix2.shape[0]:\n",
    "            raise ValueError(\"Number of columns in the first matrix must be equal to the number of rows in the second matrix for multiplication\")\n",
    "        return np.matmul(matrix1, matrix2)\n"
   ]
  },
  {
   "cell_type": "code",
   "execution_count": 266,
   "id": "8bc5bac2",
   "metadata": {},
   "outputs": [
    {
     "ename": "ValueError",
     "evalue": "Matrices must have the same shape for addition",
     "output_type": "error",
     "traceback": [
      "\u001b[1;31m---------------------------------------------------------------------------\u001b[0m",
      "\u001b[1;31mValueError\u001b[0m                                Traceback (most recent call last)",
      "Cell \u001b[1;32mIn[266], line 2\u001b[0m\n\u001b[0;32m      1\u001b[0m \u001b[38;5;66;03m#B − 2A\u001b[39;00m\n\u001b[1;32m----> 2\u001b[0m \u001b[43madd_mult_matrices\u001b[49m\u001b[43m(\u001b[49m\u001b[43mB\u001b[49m\u001b[43m,\u001b[49m\u001b[43m \u001b[49m\u001b[38;5;241;43m-\u001b[39;49m\u001b[38;5;241;43m2\u001b[39;49m\u001b[38;5;241;43m*\u001b[39;49m\u001b[43mA\u001b[49m\u001b[43m,\u001b[49m\u001b[43m \u001b[49m\u001b[38;5;124;43m'\u001b[39;49m\u001b[38;5;124;43madd\u001b[39;49m\u001b[38;5;124;43m'\u001b[39;49m\u001b[43m)\u001b[49m\n",
      "Cell \u001b[1;32mIn[265], line 11\u001b[0m, in \u001b[0;36madd_mult_matrices\u001b[1;34m(matrix1, matrix2, operation)\u001b[0m\n\u001b[0;32m      9\u001b[0m \u001b[38;5;28;01mif\u001b[39;00m operation \u001b[38;5;241m==\u001b[39m \u001b[38;5;124m\"\u001b[39m\u001b[38;5;124madd\u001b[39m\u001b[38;5;124m\"\u001b[39m:\n\u001b[0;32m     10\u001b[0m     \u001b[38;5;28;01mif\u001b[39;00m matrix1\u001b[38;5;241m.\u001b[39mshape \u001b[38;5;241m!=\u001b[39m matrix2\u001b[38;5;241m.\u001b[39mshape:\n\u001b[1;32m---> 11\u001b[0m         \u001b[38;5;28;01mraise\u001b[39;00m \u001b[38;5;167;01mValueError\u001b[39;00m(\u001b[38;5;124m\"\u001b[39m\u001b[38;5;124mMatrices must have the same shape for addition\u001b[39m\u001b[38;5;124m\"\u001b[39m)\n\u001b[0;32m     12\u001b[0m     \u001b[38;5;28;01mreturn\u001b[39;00m matrix1 \u001b[38;5;241m+\u001b[39m matrix2\n\u001b[0;32m     14\u001b[0m \u001b[38;5;28;01melse\u001b[39;00m:\n",
      "\u001b[1;31mValueError\u001b[0m: Matrices must have the same shape for addition"
     ]
    }
   ],
   "source": [
    "#B − 2A\n",
    "add_mult_matrices(B, -2*A, 'add') "
   ]
  },
  {
   "cell_type": "code",
   "execution_count": 267,
   "id": "7397b693",
   "metadata": {},
   "outputs": [
    {
     "ename": "ValueError",
     "evalue": "Matrices must have the same shape for addition",
     "output_type": "error",
     "traceback": [
      "\u001b[1;31m---------------------------------------------------------------------------\u001b[0m",
      "\u001b[1;31mValueError\u001b[0m                                Traceback (most recent call last)",
      "Cell \u001b[1;32mIn[267], line 2\u001b[0m\n\u001b[0;32m      1\u001b[0m \u001b[38;5;66;03m#3C - E\u001b[39;00m\n\u001b[1;32m----> 2\u001b[0m \u001b[43madd_mult_matrices\u001b[49m\u001b[43m(\u001b[49m\u001b[38;5;241;43m3\u001b[39;49m\u001b[38;5;241;43m*\u001b[39;49m\u001b[43mC\u001b[49m\u001b[43m,\u001b[49m\u001b[43m \u001b[49m\u001b[38;5;241;43m-\u001b[39;49m\u001b[43m \u001b[49m\u001b[43mE\u001b[49m\u001b[43m,\u001b[49m\u001b[43m \u001b[49m\u001b[38;5;124;43m'\u001b[39;49m\u001b[38;5;124;43madd\u001b[39;49m\u001b[38;5;124;43m'\u001b[39;49m\u001b[43m)\u001b[49m\n",
      "Cell \u001b[1;32mIn[265], line 11\u001b[0m, in \u001b[0;36madd_mult_matrices\u001b[1;34m(matrix1, matrix2, operation)\u001b[0m\n\u001b[0;32m      9\u001b[0m \u001b[38;5;28;01mif\u001b[39;00m operation \u001b[38;5;241m==\u001b[39m \u001b[38;5;124m\"\u001b[39m\u001b[38;5;124madd\u001b[39m\u001b[38;5;124m\"\u001b[39m:\n\u001b[0;32m     10\u001b[0m     \u001b[38;5;28;01mif\u001b[39;00m matrix1\u001b[38;5;241m.\u001b[39mshape \u001b[38;5;241m!=\u001b[39m matrix2\u001b[38;5;241m.\u001b[39mshape:\n\u001b[1;32m---> 11\u001b[0m         \u001b[38;5;28;01mraise\u001b[39;00m \u001b[38;5;167;01mValueError\u001b[39;00m(\u001b[38;5;124m\"\u001b[39m\u001b[38;5;124mMatrices must have the same shape for addition\u001b[39m\u001b[38;5;124m\"\u001b[39m)\n\u001b[0;32m     12\u001b[0m     \u001b[38;5;28;01mreturn\u001b[39;00m matrix1 \u001b[38;5;241m+\u001b[39m matrix2\n\u001b[0;32m     14\u001b[0m \u001b[38;5;28;01melse\u001b[39;00m:\n",
      "\u001b[1;31mValueError\u001b[0m: Matrices must have the same shape for addition"
     ]
    }
   ],
   "source": [
    "#3C - E\n",
    "add_mult_matrices(3*C, - E, 'add')"
   ]
  },
  {
   "cell_type": "code",
   "execution_count": 268,
   "id": "0a75c45f",
   "metadata": {},
   "outputs": [
    {
     "ename": "ValueError",
     "evalue": "Number of columns in the first matrix must be equal to the number of rows in the second matrix for multiplication",
     "output_type": "error",
     "traceback": [
      "\u001b[1;31m---------------------------------------------------------------------------\u001b[0m",
      "\u001b[1;31mValueError\u001b[0m                                Traceback (most recent call last)",
      "Cell \u001b[1;32mIn[268], line 2\u001b[0m\n\u001b[0;32m      1\u001b[0m \u001b[38;5;66;03m#A*C\u001b[39;00m\n\u001b[1;32m----> 2\u001b[0m \u001b[43madd_mult_matrices\u001b[49m\u001b[43m(\u001b[49m\u001b[43mA\u001b[49m\u001b[43m,\u001b[49m\u001b[43mC\u001b[49m\u001b[43m,\u001b[49m\u001b[43m \u001b[49m\u001b[38;5;124;43m'\u001b[39;49m\u001b[38;5;124;43mmultiply\u001b[39;49m\u001b[38;5;124;43m'\u001b[39;49m\u001b[43m)\u001b[49m\n",
      "Cell \u001b[1;32mIn[265], line 16\u001b[0m, in \u001b[0;36madd_mult_matrices\u001b[1;34m(matrix1, matrix2, operation)\u001b[0m\n\u001b[0;32m     14\u001b[0m \u001b[38;5;28;01melse\u001b[39;00m:\n\u001b[0;32m     15\u001b[0m     \u001b[38;5;28;01mif\u001b[39;00m matrix1\u001b[38;5;241m.\u001b[39mshape[\u001b[38;5;241m1\u001b[39m] \u001b[38;5;241m!=\u001b[39m matrix2\u001b[38;5;241m.\u001b[39mshape[\u001b[38;5;241m0\u001b[39m]:\n\u001b[1;32m---> 16\u001b[0m         \u001b[38;5;28;01mraise\u001b[39;00m \u001b[38;5;167;01mValueError\u001b[39;00m(\u001b[38;5;124m\"\u001b[39m\u001b[38;5;124mNumber of columns in the first matrix must be equal to the number of rows in the second matrix for multiplication\u001b[39m\u001b[38;5;124m\"\u001b[39m)\n\u001b[0;32m     17\u001b[0m     \u001b[38;5;28;01mreturn\u001b[39;00m np\u001b[38;5;241m.\u001b[39mmatmul(matrix1, matrix2)\n",
      "\u001b[1;31mValueError\u001b[0m: Number of columns in the first matrix must be equal to the number of rows in the second matrix for multiplication"
     ]
    }
   ],
   "source": [
    "#A*C\n",
    "add_mult_matrices(A,C, 'multiply') \n",
    "#returns error,because number of columns in the first matrix must be equal to the number of rows in the second matrix for multiplication"
   ]
  },
  {
   "cell_type": "code",
   "execution_count": 269,
   "id": "18328a64",
   "metadata": {},
   "outputs": [
    {
     "ename": "ValueError",
     "evalue": "Number of columns in the first matrix must be equal to the number of rows in the second matrix for multiplication",
     "output_type": "error",
     "traceback": [
      "\u001b[1;31m---------------------------------------------------------------------------\u001b[0m",
      "\u001b[1;31mValueError\u001b[0m                                Traceback (most recent call last)",
      "Cell \u001b[1;32mIn[269], line 2\u001b[0m\n\u001b[0;32m      1\u001b[0m \u001b[38;5;66;03m# C*D\u001b[39;00m\n\u001b[1;32m----> 2\u001b[0m \u001b[43madd_mult_matrices\u001b[49m\u001b[43m(\u001b[49m\u001b[43mC\u001b[49m\u001b[43m,\u001b[49m\u001b[43mD\u001b[49m\u001b[43m,\u001b[49m\u001b[43m \u001b[49m\u001b[38;5;124;43m'\u001b[39;49m\u001b[38;5;124;43mmultiply\u001b[39;49m\u001b[38;5;124;43m'\u001b[39;49m\u001b[43m)\u001b[49m\n",
      "Cell \u001b[1;32mIn[265], line 16\u001b[0m, in \u001b[0;36madd_mult_matrices\u001b[1;34m(matrix1, matrix2, operation)\u001b[0m\n\u001b[0;32m     14\u001b[0m \u001b[38;5;28;01melse\u001b[39;00m:\n\u001b[0;32m     15\u001b[0m     \u001b[38;5;28;01mif\u001b[39;00m matrix1\u001b[38;5;241m.\u001b[39mshape[\u001b[38;5;241m1\u001b[39m] \u001b[38;5;241m!=\u001b[39m matrix2\u001b[38;5;241m.\u001b[39mshape[\u001b[38;5;241m0\u001b[39m]:\n\u001b[1;32m---> 16\u001b[0m         \u001b[38;5;28;01mraise\u001b[39;00m \u001b[38;5;167;01mValueError\u001b[39;00m(\u001b[38;5;124m\"\u001b[39m\u001b[38;5;124mNumber of columns in the first matrix must be equal to the number of rows in the second matrix for multiplication\u001b[39m\u001b[38;5;124m\"\u001b[39m)\n\u001b[0;32m     17\u001b[0m     \u001b[38;5;28;01mreturn\u001b[39;00m np\u001b[38;5;241m.\u001b[39mmatmul(matrix1, matrix2)\n",
      "\u001b[1;31mValueError\u001b[0m: Number of columns in the first matrix must be equal to the number of rows in the second matrix for multiplication"
     ]
    }
   ],
   "source": [
    "# C*D\n",
    "add_mult_matrices(C,D, 'multiply')"
   ]
  },
  {
   "cell_type": "code",
   "execution_count": 270,
   "id": "87fec1ae",
   "metadata": {},
   "outputs": [
    {
     "data": {
      "text/plain": [
       "array([[  8, -10,  -3],\n",
       "       [ 10,  -8,   0]])"
      ]
     },
     "execution_count": 270,
     "metadata": {},
     "output_type": "execute_result"
    }
   ],
   "source": [
    "# C*B\n",
    "add_mult_matrices(C,B, 'multiply')"
   ]
  },
  {
   "cell_type": "markdown",
   "id": "5000c829",
   "metadata": {},
   "source": [
    "**Chap2. Question 2**"
   ]
  },
  {
   "cell_type": "code",
   "execution_count": 271,
   "id": "44dab740",
   "metadata": {},
   "outputs": [
    {
     "name": "stdout",
     "output_type": "stream",
     "text": [
      "AB:\n",
      " [[ 4  7]\n",
      " [ 8 14]] \n",
      "\n",
      " AC:\n",
      " [[ 4  7]\n",
      " [ 8 14]]\n"
     ]
    }
   ],
   "source": [
    "A = np.array([[1, 2], \n",
    "              [2, 4]])\n",
    "\n",
    "B = np.array([[2, 1], \n",
    "              [1, 3]])\n",
    "\n",
    "C = np.array([[4, 3], \n",
    "              [0, 2]])\n",
    "\n",
    "AB = add_mult_matrices(A, B, 'multiply')\n",
    "AC = add_mult_matrices(A, C, 'multiply')\n",
    "\n",
    "print(\"AB:\\n\", AB, '\\n\\n', \"AC:\\n\", AC) "
   ]
  },
  {
   "cell_type": "code",
   "execution_count": 272,
   "id": "876e2a9e",
   "metadata": {},
   "outputs": [
    {
     "name": "stdout",
     "output_type": "stream",
     "text": [
      "True\n",
      "True\n"
     ]
    }
   ],
   "source": [
    "#To verify that AB = AC and B ̸= C\n",
    "\n",
    "#AB = AC\n",
    "print((AB == AC).all()) # AB and AC multiplications have same results so output should be True.\n",
    "\n",
    "#B != C \n",
    "print((B != C).all())  # B and C are not equal as it was in question so output should be True."
   ]
  },
  {
   "cell_type": "markdown",
   "id": "a7f5b140",
   "metadata": {},
   "source": [
    "**Chap2. Question 3**"
   ]
  },
  {
   "cell_type": "code",
   "execution_count": 273,
   "id": "668b1323",
   "metadata": {},
   "outputs": [
    {
     "name": "stdout",
     "output_type": "stream",
     "text": [
      "AD:\n",
      " [[ 2  3  4]\n",
      " [ 2  6 12]\n",
      " [ 2  9 16]] \n",
      "\n",
      " DA:\n",
      " [[ 2  2  2]\n",
      " [ 3  6  9]\n",
      " [ 4 12 16]]\n"
     ]
    }
   ],
   "source": [
    "A = np.array([[1, 1, 1], \n",
    "              [1, 2, 3], \n",
    "              [1, 3, 4]]) \n",
    "\n",
    "D = np.array([[2, 0, 0], \n",
    "              [0, 3, 0], \n",
    "              [0, 0, 4]]) \n",
    "\n",
    "#print out multipication of D and A matrices.\n",
    "print('AD:\\n', add_mult_matrices(A,D, 'multiply'),'\\n\\n', 'DA:\\n', add_mult_matrices(D,A, 'multiply'))"
   ]
  },
  {
   "cell_type": "markdown",
   "id": "334ca623",
   "metadata": {},
   "source": [
    "**Quiz p.8, Question 2**"
   ]
  },
  {
   "cell_type": "code",
   "execution_count": 274,
   "id": "b031a786",
   "metadata": {},
   "outputs": [
    {
     "name": "stdout",
     "output_type": "stream",
     "text": [
      "AB:\n",
      " [[-2  2]\n",
      " [ 2 -2]]\n"
     ]
    }
   ],
   "source": [
    "A = np.array([[1, -1],\n",
    "              [-1, 1]]) \n",
    "\n",
    "B = np.array([[-1, 1],\n",
    "              [1, -1]])\n",
    "\n",
    "print('AB:\\n', add_mult_matrices(A,B,'multiply')) ##print out multipication of A and B matrices."
   ]
  },
  {
   "cell_type": "markdown",
   "id": "fbfb4124",
   "metadata": {},
   "source": [
    "**Chap 6. Question 1**"
   ]
  },
  {
   "cell_type": "code",
   "execution_count": 315,
   "id": "9c68d160",
   "metadata": {},
   "outputs": [],
   "source": [
    "A1 = np.array([[5, 6],\n",
    "              [4, 5]])\n",
    "\n",
    "A2 = np.array([[6, 4],\n",
    "              [3, 3]])"
   ]
  },
  {
   "cell_type": "code",
   "execution_count": 316,
   "id": "84e7f925",
   "metadata": {},
   "outputs": [
    {
     "name": "stdout",
     "output_type": "stream",
     "text": [
      "Inverse of A1:\n",
      " [[ 5. -6.]\n",
      " [-4.  5.]]\n",
      "[[ 1.00000000e+00  0.00000000e+00]\n",
      " [-1.77635684e-15  1.00000000e+00]]\n",
      "True\n"
     ]
    }
   ],
   "source": [
    "A1_inv = np.linalg.inv(A1)\n",
    "\n",
    "print('Inverse of A1:\\n', A1_inv)\n",
    "\n",
    "print(A1 @ A1_inv)\n",
    "print(np.allclose(A1 @ A1_inv, np.eye(2)))"
   ]
  },
  {
   "cell_type": "code",
   "execution_count": 317,
   "id": "b1eed5f6",
   "metadata": {},
   "outputs": [
    {
     "name": "stdout",
     "output_type": "stream",
     "text": [
      "Inverse of A2:\n",
      " [[ 0.5        -0.66666667]\n",
      " [-0.5         1.        ]]\n",
      "[[1. 0.]\n",
      " [0. 1.]]\n",
      "True\n"
     ]
    }
   ],
   "source": [
    "#Using np.linalg.inv() function to find the inverses of the matrices b.\n",
    "A2_inv = np.linalg.inv(A2)\n",
    "\n",
    "print('Inverse of A2:\\n', A2_inv)\n",
    "\n",
    "print(A2 @ A2_inv)\n",
    "print(np.allclose(A2 @ A2_inv, np.eye(2)))"
   ]
  },
  {
   "cell_type": "markdown",
   "id": "574b6d18",
   "metadata": {},
   "source": [
    "**Quiz p.15, Question 3**"
   ]
  },
  {
   "cell_type": "code",
   "execution_count": 332,
   "id": "c4cc11eb",
   "metadata": {},
   "outputs": [
    {
     "name": "stdout",
     "output_type": "stream",
     "text": [
      "Inverse of A:\n",
      " [[ 1.  -1. ]\n",
      " [-0.5  1. ]] \n",
      "\n",
      "A @ A_inv : \n",
      " [[1. 0.]\n",
      " [0. 1.]] \n",
      "\n",
      "True\n"
     ]
    }
   ],
   "source": [
    "A = np.array([[2, 2], \n",
    "              [1, 2]])\n",
    "\n",
    "A_inv = np.linalg.inv(A)\n",
    "print('Inverse of A:\\n', A_inv, '\\n')\n",
    "print('A @ A_inv :\\n', A @ A_inv, '\\n')\n",
    "print(np.allclose(A @ A_inv, np.eye(2)))"
   ]
  },
  {
   "cell_type": "markdown",
   "id": "5de93779",
   "metadata": {},
   "source": [
    "**Chap10. Question 1 a)**"
   ]
  },
  {
   "cell_type": "code",
   "execution_count": 334,
   "id": "e9a63544",
   "metadata": {},
   "outputs": [
    {
     "name": "stdout",
     "output_type": "stream",
     "text": [
      "B:\n",
      " [ 3.  4. -6.] \n",
      "\n",
      "A1 @ B :\n",
      " [-7.  5.  2.]\n"
     ]
    }
   ],
   "source": [
    "A1 = np.array([[3, -7, -2], \n",
    "              [-3, 5, 1], \n",
    "              [6, -4, 0]])\n",
    "\n",
    "A2 = np.array([-7, 5, 2])\n",
    "\n",
    "B = np.linalg.solve(A1, A2) #using .solve funktion to find solution\n",
    "print('B:\\n', B, '\\n')\n",
    "print('A1 @ B :\\n', A1 @ B)"
   ]
  },
  {
   "cell_type": "markdown",
   "id": "3f49e9e1",
   "metadata": {},
   "source": [
    "**Chap10. Question 1 b)**"
   ]
  },
  {
   "cell_type": "code",
   "execution_count": 335,
   "id": "6f6e72fb",
   "metadata": {},
   "outputs": [
    {
     "name": "stdout",
     "output_type": "stream",
     "text": [
      "B:\n",
      " [ 8.  2. -1.] \n",
      "\n",
      "A1 @ B :\n",
      " [ 1. -1.  1.]\n"
     ]
    }
   ],
   "source": [
    "A1 = np.array([[1, -2, 3], \n",
    "               [-1, 3, -1], \n",
    "               [2, -5, 5]])\n",
    "\n",
    "A2 = np.array([1, -1, 1])\n",
    "\n",
    "B = np.linalg.solve(A1,A2)\n",
    "print('B:\\n', B, '\\n')\n",
    "print('A1 @ B :\\n', A1 @ B) "
   ]
  },
  {
   "cell_type": "markdown",
   "id": "beb0a8af",
   "metadata": {},
   "source": [
    "**Chap 12. Question 1**"
   ]
  },
  {
   "cell_type": "code",
   "execution_count": 340,
   "id": "4fe15c46",
   "metadata": {},
   "outputs": [
    {
     "name": "stdout",
     "output_type": "stream",
     "text": [
      "Inverse of a:\n",
      " [[ 0.66666667  1.33333333  0.5       ]\n",
      " [ 1.          2.          0.5       ]\n",
      " [-3.         -5.         -1.        ]]\n",
      "[[ 1.00000000e+00  0.00000000e+00  0.00000000e+00]\n",
      " [ 4.44089210e-16  1.00000000e+00 -2.22044605e-16]\n",
      " [ 0.00000000e+00  0.00000000e+00  1.00000000e+00]]\n",
      "True\n"
     ]
    }
   ],
   "source": [
    "a = np.array([[3, -7, -2], \n",
    "              [-3, 5, 1], \n",
    "              [6, -4, 0]])\n",
    "\n",
    "a_inv= np.linalg.inv(a)\n",
    "print(\"Inverse of a:\\n\", a_inv)\n",
    "\n",
    "print(a @ a_inv)\n",
    "print(np.allclose(a @ a_inv, np.eye(3)))"
   ]
  },
  {
   "cell_type": "markdown",
   "id": "6a4a524f",
   "metadata": {},
   "source": [
    "### Copies and Views\n",
    "Read the following link: https://numpy.org/doc/stable/user/basics.copies.html"
   ]
  },
  {
   "cell_type": "markdown",
   "id": "6cbbeaf7",
   "metadata": {},
   "source": [
    "**Basic indexing creates a view, How can you check if v1 and v2 is a view or copy? If you change the last element in v2 to 123, will the last element in v1 be changed? Why?**"
   ]
  },
  {
   "cell_type": "code",
   "execution_count": 341,
   "id": "5b9ef4df",
   "metadata": {},
   "outputs": [
    {
     "name": "stdout",
     "output_type": "stream",
     "text": [
      "[0 1 2 3]\n",
      "[2 3]\n"
     ]
    }
   ],
   "source": [
    "v1 = np.arange(4)\n",
    "v2 = v1[-2:]\n",
    "print(v1)\n",
    "print(v2) "
   ]
  },
  {
   "cell_type": "code",
   "execution_count": 342,
   "id": "d2440489",
   "metadata": {},
   "outputs": [
    {
     "name": "stdout",
     "output_type": "stream",
     "text": [
      "None\n",
      "[0 1 2 3]\n"
     ]
    }
   ],
   "source": [
    "# The base attribute of a view returns the original array while it returns None for a copy.\n",
    "print(v1.base)\n",
    "print(v2.base)"
   ]
  },
  {
   "cell_type": "code",
   "execution_count": 343,
   "id": "c8752807",
   "metadata": {},
   "outputs": [
    {
     "name": "stdout",
     "output_type": "stream",
     "text": [
      "[  0   1   2 123]\n",
      "[  2 123]\n"
     ]
    }
   ],
   "source": [
    "# The last element in v1 will be changed aswell since v2 is a view, meaning they share the same data buffer.\n",
    "v2[-1] = 123\n",
    "print(v1)\n",
    "print(v2)"
   ]
  },
  {
   "cell_type": "markdown",
   "id": "b332cf51",
   "metadata": {},
   "source": [
    "In the last 3 cells I checked all the codes and texts which are correct so I assumed that there is not anything else needs to be done in these part."
   ]
  }
 ],
 "metadata": {
  "kernelspec": {
   "display_name": "Python 3 (ipykernel)",
   "language": "python",
   "name": "python3"
  },
  "language_info": {
   "codemirror_mode": {
    "name": "ipython",
    "version": 3
   },
   "file_extension": ".py",
   "mimetype": "text/x-python",
   "name": "python",
   "nbconvert_exporter": "python",
   "pygments_lexer": "ipython3",
   "version": "3.11.10"
  }
 },
 "nbformat": 4,
 "nbformat_minor": 5
}
